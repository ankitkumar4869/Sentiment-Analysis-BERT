{
 "cells": [
  {
   "cell_type": "markdown",
   "id": "2bba6436",
   "metadata": {},
   "source": [
    "# Imports"
   ]
  },
  {
   "cell_type": "code",
   "execution_count": 29,
   "id": "69caa558",
   "metadata": {},
   "outputs": [],
   "source": [
    "import numpy as np\n",
    "import tensorflow\n",
    "from tensorflow.keras.preprocessing.sequence import pad_sequences\n",
    "from tensorflow.keras.preprocessing.text import one_hot\n",
    "import nltk\n",
    "import re\n",
    "from nltk.corpus import stopwords\n",
    "from nltk.stem.porter import PorterStemmer"
   ]
  },
  {
   "cell_type": "code",
   "execution_count": 30,
   "id": "ffc71cbc",
   "metadata": {},
   "outputs": [
    {
     "name": "stdout",
     "output_type": "stream",
     "text": [
      "HEY GUYS, JUST WANTED TO LET YOU KNOW THAT I AM NOT DEAD. THE CHANNEL IS STILL GOING ON AND I STILL POST VIDEOS EVERY DAY.\n"
     ]
    }
   ],
   "source": [
    "x=input()"
   ]
  },
  {
   "cell_type": "code",
   "execution_count": 31,
   "id": "3f5bdfa8",
   "metadata": {},
   "outputs": [],
   "source": [
    "#Cleaning\n",
    "ps=PorterStemmer()\n",
    "corpus=[]\n",
    "rev=re.sub('[^a-zA-Z]',' ',x)\n",
    "rev=rev.lower()\n",
    "rev=rev.split()\n",
    "rev=[ps.stem(word) for word in rev if not word in stopwords.words('english')]\n",
    "rev=' '.join(rev)\n",
    "corpus.append(rev)"
   ]
  },
  {
   "cell_type": "code",
   "execution_count": 32,
   "id": "83e624ed",
   "metadata": {},
   "outputs": [],
   "source": [
    "#Preprocessing\n",
    "def preprocessing(x):\n",
    "    oh=[one_hot(x,10000)]\n",
    "    ohp=pad_sequences(oh,padding='pre',maxlen=15)\n",
    "    arr=np.array(ohp)\n",
    "    return arr"
   ]
  },
  {
   "cell_type": "code",
   "execution_count": 33,
   "id": "ac0e5b41",
   "metadata": {},
   "outputs": [],
   "source": [
    "model=tensorflow.keras.models.load_model('lstm_model (1).h5')"
   ]
  },
  {
   "cell_type": "code",
   "execution_count": 34,
   "id": "502581ae",
   "metadata": {},
   "outputs": [
    {
     "name": "stdout",
     "output_type": "stream",
     "text": [
      "1/1 [==============================] - 1s 659ms/step\n"
     ]
    }
   ],
   "source": [
    "#Feeding the input\n",
    "inp=preprocessing(corpus[0])\n",
    "pred=model.predict(inp)\n",
    "predm=np.argmax(pred,axis=1)"
   ]
  },
  {
   "cell_type": "code",
   "execution_count": 35,
   "id": "19342e7d",
   "metadata": {},
   "outputs": [],
   "source": [
    "output=\"\"\n",
    "if predm[0]==0:\n",
    "    output=\"Negative\"\n",
    "elif predm[0]==1:\n",
    "    output=\"Neutral\"\n",
    "else:\n",
    "    output=\"Positive\""
   ]
  },
  {
   "cell_type": "code",
   "execution_count": 36,
   "id": "67c0ab28",
   "metadata": {},
   "outputs": [
    {
     "data": {
      "text/plain": [
       "'Neutral'"
      ]
     },
     "execution_count": 36,
     "metadata": {},
     "output_type": "execute_result"
    }
   ],
   "source": [
    "output"
   ]
  },
  {
   "cell_type": "code",
   "execution_count": null,
   "id": "c8d62d29",
   "metadata": {},
   "outputs": [],
   "source": []
  }
 ],
 "metadata": {
  "kernelspec": {
   "display_name": "Python 3 (ipykernel)",
   "language": "python",
   "name": "python3"
  },
  "language_info": {
   "codemirror_mode": {
    "name": "ipython",
    "version": 3
   },
   "file_extension": ".py",
   "mimetype": "text/x-python",
   "name": "python",
   "nbconvert_exporter": "python",
   "pygments_lexer": "ipython3",
   "version": "3.9.13"
  }
 },
 "nbformat": 4,
 "nbformat_minor": 5
}
