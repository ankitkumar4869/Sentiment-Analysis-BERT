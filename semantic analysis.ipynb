{
 "cells": [
  {
   "cell_type": "markdown",
   "metadata": {},
   "source": [
    "# Imports"
   ]
  },
  {
   "cell_type": "code",
   "execution_count": 1,
   "metadata": {
    "execution": {
     "iopub.execute_input": "2023-01-28T20:56:07.743169Z",
     "iopub.status.busy": "2023-01-28T20:56:07.742804Z",
     "iopub.status.idle": "2023-01-28T20:56:08.700369Z",
     "shell.execute_reply": "2023-01-28T20:56:08.699289Z",
     "shell.execute_reply.started": "2023-01-28T20:56:07.743085Z"
    }
   },
   "outputs": [],
   "source": [
    "import numpy as np\n",
    "import pandas as pd\n",
    "import matplotlib.pyplot as plt\n",
    "import seaborn as sns"
   ]
  },
  {
   "cell_type": "code",
   "execution_count": 2,
   "metadata": {
    "execution": {
     "iopub.execute_input": "2023-01-28T20:56:08.708580Z",
     "iopub.status.busy": "2023-01-28T20:56:08.706196Z",
     "iopub.status.idle": "2023-01-28T20:56:14.835282Z",
     "shell.execute_reply": "2023-01-28T20:56:14.834305Z",
     "shell.execute_reply.started": "2023-01-28T20:56:08.708540Z"
    }
   },
   "outputs": [],
   "source": [
    "from tensorflow.keras.layers import Embedding\n",
    "from tensorflow.keras.preprocessing.sequence import pad_sequences\n",
    "from tensorflow.keras.preprocessing.text import one_hot\n",
    "from tensorflow.keras.models import Sequential\n",
    "from tensorflow.keras.layers import Dense\n",
    "from tensorflow.keras.layers import LSTM\n",
    "from tensorflow.keras.layers import Dropout\n",
    "import nltk\n",
    "import re\n",
    "from nltk.corpus import stopwords\n",
    "from nltk.stem.porter import PorterStemmer\n",
    "from tensorflow.keras.utils import to_categorical\n",
    "from sklearn.model_selection import train_test_split\n",
    "from sklearn.metrics import confusion_matrix\n",
    "from tensorflow.keras.callbacks import ModelCheckpoint,EarlyStopping,ReduceLROnPlateau"
   ]
  },
  {
   "cell_type": "markdown",
   "metadata": {},
   "source": [
    "# Data Loading and cleaning"
   ]
  },
  {
   "cell_type": "code",
   "execution_count": 3,
   "metadata": {
    "execution": {
     "iopub.execute_input": "2023-01-28T20:56:14.837473Z",
     "iopub.status.busy": "2023-01-28T20:56:14.836815Z",
     "iopub.status.idle": "2023-01-28T20:56:15.127141Z",
     "shell.execute_reply": "2023-01-28T20:56:15.126218Z",
     "shell.execute_reply.started": "2023-01-28T20:56:14.837437Z"
    }
   },
   "outputs": [
    {
     "data": {
      "text/html": [
       "<div>\n",
       "<style scoped>\n",
       "    .dataframe tbody tr th:only-of-type {\n",
       "        vertical-align: middle;\n",
       "    }\n",
       "\n",
       "    .dataframe tbody tr th {\n",
       "        vertical-align: top;\n",
       "    }\n",
       "\n",
       "    .dataframe thead th {\n",
       "        text-align: right;\n",
       "    }\n",
       "</style>\n",
       "<table border=\"1\" class=\"dataframe\">\n",
       "  <thead>\n",
       "    <tr style=\"text-align: right;\">\n",
       "      <th></th>\n",
       "      <th>2401</th>\n",
       "      <th>Borderlands</th>\n",
       "      <th>Positive</th>\n",
       "      <th>im getting on borderlands and i will murder you all ,</th>\n",
       "    </tr>\n",
       "  </thead>\n",
       "  <tbody>\n",
       "    <tr>\n",
       "      <th>0</th>\n",
       "      <td>2401</td>\n",
       "      <td>Borderlands</td>\n",
       "      <td>Positive</td>\n",
       "      <td>I am coming to the borders and I will kill you...</td>\n",
       "    </tr>\n",
       "    <tr>\n",
       "      <th>1</th>\n",
       "      <td>2401</td>\n",
       "      <td>Borderlands</td>\n",
       "      <td>Positive</td>\n",
       "      <td>im getting on borderlands and i will kill you ...</td>\n",
       "    </tr>\n",
       "    <tr>\n",
       "      <th>2</th>\n",
       "      <td>2401</td>\n",
       "      <td>Borderlands</td>\n",
       "      <td>Positive</td>\n",
       "      <td>im coming on borderlands and i will murder you...</td>\n",
       "    </tr>\n",
       "    <tr>\n",
       "      <th>3</th>\n",
       "      <td>2401</td>\n",
       "      <td>Borderlands</td>\n",
       "      <td>Positive</td>\n",
       "      <td>im getting on borderlands 2 and i will murder ...</td>\n",
       "    </tr>\n",
       "    <tr>\n",
       "      <th>4</th>\n",
       "      <td>2401</td>\n",
       "      <td>Borderlands</td>\n",
       "      <td>Positive</td>\n",
       "      <td>im getting into borderlands and i can murder y...</td>\n",
       "    </tr>\n",
       "  </tbody>\n",
       "</table>\n",
       "</div>"
      ],
      "text/plain": [
       "   2401  Borderlands  Positive  \\\n",
       "0  2401  Borderlands  Positive   \n",
       "1  2401  Borderlands  Positive   \n",
       "2  2401  Borderlands  Positive   \n",
       "3  2401  Borderlands  Positive   \n",
       "4  2401  Borderlands  Positive   \n",
       "\n",
       "  im getting on borderlands and i will murder you all ,  \n",
       "0  I am coming to the borders and I will kill you...     \n",
       "1  im getting on borderlands and i will kill you ...     \n",
       "2  im coming on borderlands and i will murder you...     \n",
       "3  im getting on borderlands 2 and i will murder ...     \n",
       "4  im getting into borderlands and i can murder y...     "
      ]
     },
     "execution_count": 3,
     "metadata": {},
     "output_type": "execute_result"
    }
   ],
   "source": [
    "data=pd.read_csv(\"twitter_training.csv\")\n",
    "data.head()"
   ]
  },
  {
   "cell_type": "code",
   "execution_count": 4,
   "metadata": {
    "execution": {
     "iopub.execute_input": "2023-01-28T20:56:15.132446Z",
     "iopub.status.busy": "2023-01-28T20:56:15.129929Z",
     "iopub.status.idle": "2023-01-28T20:56:15.137442Z",
     "shell.execute_reply": "2023-01-28T20:56:15.136288Z",
     "shell.execute_reply.started": "2023-01-28T20:56:15.132418Z"
    }
   },
   "outputs": [],
   "source": [
    "#Lets make a checkpoint\n",
    "df=data.copy()"
   ]
  },
  {
   "cell_type": "code",
   "execution_count": 5,
   "metadata": {
    "execution": {
     "iopub.execute_input": "2023-01-28T20:56:15.139833Z",
     "iopub.status.busy": "2023-01-28T20:56:15.139245Z",
     "iopub.status.idle": "2023-01-28T20:56:15.155003Z",
     "shell.execute_reply": "2023-01-28T20:56:15.154080Z",
     "shell.execute_reply.started": "2023-01-28T20:56:15.139797Z"
    }
   },
   "outputs": [],
   "source": [
    "#Changing the name of cloumns to make more meaningful\n",
    "df=df.rename(columns={'Positive':'Sentiment','im getting on borderlands and i will murder you all ,':'Tweet'})"
   ]
  },
  {
   "cell_type": "code",
   "execution_count": 6,
   "metadata": {
    "execution": {
     "iopub.execute_input": "2023-01-28T20:56:15.157925Z",
     "iopub.status.busy": "2023-01-28T20:56:15.157266Z",
     "iopub.status.idle": "2023-01-28T20:56:15.168611Z",
     "shell.execute_reply": "2023-01-28T20:56:15.167640Z",
     "shell.execute_reply.started": "2023-01-28T20:56:15.157886Z"
    }
   },
   "outputs": [],
   "source": [
    "#Removing the columns that ww won't need for model training\n",
    "df=df.drop(['2401','Borderlands'],axis=1)"
   ]
  },
  {
   "cell_type": "code",
   "execution_count": 7,
   "metadata": {
    "execution": {
     "iopub.execute_input": "2023-01-28T20:56:15.170738Z",
     "iopub.status.busy": "2023-01-28T20:56:15.170406Z",
     "iopub.status.idle": "2023-01-28T20:56:15.383687Z",
     "shell.execute_reply": "2023-01-28T20:56:15.382982Z",
     "shell.execute_reply.started": "2023-01-28T20:56:15.170705Z"
    }
   },
   "outputs": [
    {
     "data": {
      "text/plain": [
       "<AxesSubplot: >"
      ]
     },
     "execution_count": 7,
     "metadata": {},
     "output_type": "execute_result"
    },
    {
     "data": {
      "image/png": "[encoded data removed]",
      "text/plain": [
       "<Figure size 640x480 with 1 Axes>"
      ]
     },
     "metadata": {},
     "output_type": "display_data"
    }
   ],
   "source": [
    "#Checking the balance of data\n",
    "df['Sentiment'].value_counts().plot(kind='bar')"
   ]
  },
  {
   "cell_type": "code",
   "execution_count": 8,
   "metadata": {
    "execution": {
     "iopub.execute_input": "2023-01-28T20:56:15.385693Z",
     "iopub.status.busy": "2023-01-28T20:56:15.384798Z",
     "iopub.status.idle": "2023-01-28T20:56:15.889371Z",
     "shell.execute_reply": "2023-01-28T20:56:15.888284Z",
     "shell.execute_reply.started": "2023-01-28T20:56:15.385656Z"
    }
   },
   "outputs": [],
   "source": [
    "#We are only interested in Positive, Negative and Normal cases so lets dop Irrelevant\n",
    "indexes=[]\n",
    "for i in range(74681):\n",
    "    if(df['Sentiment'][i]=='Irrelevant'):\n",
    "        indexes.append(i)"
   ]
  },
  {
   "cell_type": "code",
   "execution_count": 9,
   "metadata": {
    "execution": {
     "iopub.execute_input": "2023-01-28T20:56:15.896412Z",
     "iopub.status.busy": "2023-01-28T20:56:15.893968Z",
     "iopub.status.idle": "2023-01-28T20:56:15.912822Z",
     "shell.execute_reply": "2023-01-28T20:56:15.911660Z",
     "shell.execute_reply.started": "2023-01-28T20:56:15.896368Z"
    }
   },
   "outputs": [],
   "source": [
    "df=df.drop(indexes,axis=0)"
   ]
  },
  {
   "cell_type": "code",
   "execution_count": 10,
   "metadata": {
    "execution": {
     "iopub.execute_input": "2023-01-28T20:56:15.930446Z",
     "iopub.status.busy": "2023-01-28T20:56:15.924340Z",
     "iopub.status.idle": "2023-01-28T20:56:15.955304Z",
     "shell.execute_reply": "2023-01-28T20:56:15.953202Z",
     "shell.execute_reply.started": "2023-01-28T20:56:15.930411Z"
    }
   },
   "outputs": [
    {
     "data": {
      "text/plain": [
       "Sentiment      0\n",
       "Tweet        571\n",
       "dtype: int64"
      ]
     },
     "execution_count": 10,
     "metadata": {},
     "output_type": "execute_result"
    }
   ],
   "source": [
    "#Checking for null values\n",
    "df.isna().sum()"
   ]
  },
  {
   "cell_type": "code",
   "execution_count": 11,
   "metadata": {
    "execution": {
     "iopub.execute_input": "2023-01-28T20:56:15.962290Z",
     "iopub.status.busy": "2023-01-28T20:56:15.960066Z",
     "iopub.status.idle": "2023-01-28T20:56:15.983580Z",
     "shell.execute_reply": "2023-01-28T20:56:15.982528Z",
     "shell.execute_reply.started": "2023-01-28T20:56:15.962241Z"
    }
   },
   "outputs": [],
   "source": [
    "#Dropping null values\n",
    "df=df.dropna()"
   ]
  },
  {
   "cell_type": "code",
   "execution_count": 12,
   "metadata": {
    "execution": {
     "iopub.execute_input": "2023-01-28T20:56:15.989749Z",
     "iopub.status.busy": "2023-01-28T20:56:15.987493Z",
     "iopub.status.idle": "2023-01-28T20:56:16.005196Z",
     "shell.execute_reply": "2023-01-28T20:56:16.004397Z",
     "shell.execute_reply.started": "2023-01-28T20:56:15.989715Z"
    }
   },
   "outputs": [],
   "source": [
    "#Handling categorical nature of our target variable\n",
    "df['Sentiment']=df['Sentiment'].map({'Positive':2,'Neutral':1,'Negative':0})"
   ]
  },
  {
   "cell_type": "code",
   "execution_count": 13,
   "metadata": {
    "execution": {
     "iopub.execute_input": "2023-01-28T20:56:16.011491Z",
     "iopub.status.busy": "2023-01-28T20:56:16.009170Z",
     "iopub.status.idle": "2023-01-28T20:56:16.035184Z",
     "shell.execute_reply": "2023-01-28T20:56:16.034361Z",
     "shell.execute_reply.started": "2023-01-28T20:56:16.011454Z"
    }
   },
   "outputs": [
    {
     "name": "stdout",
     "output_type": "stream",
     "text": [
      "<class 'pandas.core.frame.DataFrame'>\n",
      "Int64Index: 61120 entries, 0 to 74680\n",
      "Data columns (total 2 columns):\n",
      " #   Column     Non-Null Count  Dtype \n",
      "---  ------     --------------  ----- \n",
      " 0   Sentiment  61120 non-null  int64 \n",
      " 1   Tweet      61120 non-null  object\n",
      "dtypes: int64(1), object(1)\n",
      "memory usage: 1.4+ MB\n"
     ]
    }
   ],
   "source": [
    "df.info()"
   ]
  },
  {
   "cell_type": "code",
   "execution_count": 14,
   "metadata": {
    "execution": {
     "iopub.execute_input": "2023-01-28T20:56:16.041483Z",
     "iopub.status.busy": "2023-01-28T20:56:16.039383Z",
     "iopub.status.idle": "2023-01-28T20:56:16.048175Z",
     "shell.execute_reply": "2023-01-28T20:56:16.047217Z",
     "shell.execute_reply.started": "2023-01-28T20:56:16.041449Z"
    }
   },
   "outputs": [],
   "source": [
    "#Reset the index\n",
    "df.reset_index(inplace=True)"
   ]
  },
  {
   "cell_type": "markdown",
   "metadata": {},
   "source": [
    "# Data Preprocessing"
   ]
  },
  {
   "cell_type": "code",
   "execution_count": 15,
   "metadata": {
    "execution": {
     "iopub.execute_input": "2023-01-28T20:56:16.055101Z",
     "iopub.status.busy": "2023-01-28T20:56:16.052665Z",
     "iopub.status.idle": "2023-01-28T20:56:16.060871Z",
     "shell.execute_reply": "2023-01-28T20:56:16.060044Z",
     "shell.execute_reply.started": "2023-01-28T20:56:16.055064Z"
    }
   },
   "outputs": [],
   "source": [
    "x=df['Tweet']\n",
    "y=df['Sentiment']"
   ]
  },
  {
   "cell_type": "code",
   "execution_count": 16,
   "metadata": {
    "execution": {
     "iopub.execute_input": "2023-01-28T20:56:16.066654Z",
     "iopub.status.busy": "2023-01-28T20:56:16.065034Z",
     "iopub.status.idle": "2023-01-28T20:56:16.072996Z",
     "shell.execute_reply": "2023-01-28T20:56:16.072110Z",
     "shell.execute_reply.started": "2023-01-28T20:56:16.066622Z"
    }
   },
   "outputs": [],
   "source": [
    "voc_size=10000"
   ]
  },
  {
   "cell_type": "code",
   "execution_count": 17,
   "metadata": {
    "execution": {
     "iopub.execute_input": "2023-01-28T20:56:16.075435Z",
     "iopub.status.busy": "2023-01-28T20:56:16.074542Z",
     "iopub.status.idle": "2023-01-28T20:56:16.222557Z",
     "shell.execute_reply": "2023-01-28T20:56:16.221636Z",
     "shell.execute_reply.started": "2023-01-28T20:56:16.075402Z"
    }
   },
   "outputs": [
    {
     "name": "stderr",
     "output_type": "stream",
     "text": [
      "[nltk_data] Downloading package stopwords to\n",
      "[nltk_data]     C:\\Users\\HP\\AppData\\Roaming\\nltk_data...\n",
      "[nltk_data]   Package stopwords is already up-to-date!\n"
     ]
    },
    {
     "data": {
      "text/plain": [
       "True"
      ]
     },
     "execution_count": 17,
     "metadata": {},
     "output_type": "execute_result"
    }
   ],
   "source": [
    "nltk.download('stopwords')"
   ]
  },
  {
   "cell_type": "code",
   "execution_count": 18,
   "metadata": {
    "execution": {
     "iopub.execute_input": "2023-01-28T20:56:16.229067Z",
     "iopub.status.busy": "2023-01-28T20:56:16.226809Z",
     "iopub.status.idle": "2023-01-28T20:58:56.751396Z",
     "shell.execute_reply": "2023-01-28T20:58:56.750383Z",
     "shell.execute_reply.started": "2023-01-28T20:56:16.229030Z"
    }
   },
   "outputs": [],
   "source": [
    "#Cleaning text data\n",
    "ps=PorterStemmer()\n",
    "corpus=[]\n",
    "for i in range(len(x)):\n",
    "    rev=re.sub('[^a-zA-Z]',' ',df['Tweet'][i])\n",
    "    rev=rev.lower()\n",
    "    rev=rev.split()\n",
    "    \n",
    "    rev=[ps.stem(word) for word in rev if not word in stopwords.words('english')]\n",
    "    rev=' '.join(rev)\n",
    "    corpus.append(rev)"
   ]
  },
  {
   "cell_type": "code",
   "execution_count": 19,
   "metadata": {
    "execution": {
     "iopub.execute_input": "2023-01-28T20:58:56.753209Z",
     "iopub.status.busy": "2023-01-28T20:58:56.752755Z",
     "iopub.status.idle": "2023-01-28T20:58:57.517633Z",
     "shell.execute_reply": "2023-01-28T20:58:57.516672Z",
     "shell.execute_reply.started": "2023-01-28T20:58:56.753172Z"
    }
   },
   "outputs": [],
   "source": [
    "#One-Hot Encoding\n",
    "one_hot_rep=[one_hot(words,voc_size) for words in corpus]"
   ]
  },
  {
   "cell_type": "code",
   "execution_count": 20,
   "metadata": {
    "execution": {
     "iopub.execute_input": "2023-01-28T20:58:57.519415Z",
     "iopub.status.busy": "2023-01-28T20:58:57.518963Z",
     "iopub.status.idle": "2023-01-28T20:58:57.679342Z",
     "shell.execute_reply": "2023-01-28T20:58:57.678474Z",
     "shell.execute_reply.started": "2023-01-28T20:58:57.519378Z"
    }
   },
   "outputs": [],
   "source": [
    "#Padding data\n",
    "sent_length=15\n",
    "embed=pad_sequences(one_hot_rep,padding='pre',maxlen=sent_length)"
   ]
  },
  {
   "cell_type": "code",
   "execution_count": 21,
   "metadata": {
    "execution": {
     "iopub.execute_input": "2023-01-28T20:58:57.681114Z",
     "iopub.status.busy": "2023-01-28T20:58:57.680776Z",
     "iopub.status.idle": "2023-01-28T20:58:57.686736Z",
     "shell.execute_reply": "2023-01-28T20:58:57.685755Z",
     "shell.execute_reply.started": "2023-01-28T20:58:57.681080Z"
    }
   },
   "outputs": [],
   "source": [
    "#Changing y to categorical type to use categorical_crossentropy loss function\n",
    "y=to_categorical(y)"
   ]
  },
  {
   "cell_type": "code",
   "execution_count": 22,
   "metadata": {
    "execution": {
     "iopub.execute_input": "2023-01-28T20:58:57.688788Z",
     "iopub.status.busy": "2023-01-28T20:58:57.688386Z",
     "iopub.status.idle": "2023-01-28T20:58:57.699147Z",
     "shell.execute_reply": "2023-01-28T20:58:57.698243Z",
     "shell.execute_reply.started": "2023-01-28T20:58:57.688755Z"
    }
   },
   "outputs": [],
   "source": [
    "#converting data to numpy array\n",
    "x_array=np.array(embed)\n",
    "y_array=np.array(y)"
   ]
  },
  {
   "cell_type": "code",
   "execution_count": 23,
   "metadata": {
    "execution": {
     "iopub.execute_input": "2023-01-28T20:58:57.700988Z",
     "iopub.status.busy": "2023-01-28T20:58:57.700448Z",
     "iopub.status.idle": "2023-01-28T20:58:57.716663Z",
     "shell.execute_reply": "2023-01-28T20:58:57.715839Z",
     "shell.execute_reply.started": "2023-01-28T20:58:57.700954Z"
    }
   },
   "outputs": [],
   "source": [
    "#Splitting data as train, test, validation\n",
    "x_train,x_t,y_train,y_t=train_test_split(x_array,y_array,random_state=42)"
   ]
  },
  {
   "cell_type": "code",
   "execution_count": 24,
   "metadata": {
    "execution": {
     "iopub.execute_input": "2023-01-28T20:58:57.718368Z",
     "iopub.status.busy": "2023-01-28T20:58:57.718009Z",
     "iopub.status.idle": "2023-01-28T20:58:57.723786Z",
     "shell.execute_reply": "2023-01-28T20:58:57.722710Z",
     "shell.execute_reply.started": "2023-01-28T20:58:57.718337Z"
    }
   },
   "outputs": [],
   "source": [
    "x_valid=x_t[:int(x_t.shape[0]*0.35)]\n",
    "y_valid=y_t[:int(y_t.shape[0]*0.35)]\n",
    "x_test=x_t[int(x_t.shape[0]*0.35):]\n",
    "y_test=y_t[int(y_t.shape[0]*0.35):]"
   ]
  },
  {
   "cell_type": "markdown",
   "metadata": {},
   "source": [
    "# Model Creation and Training"
   ]
  },
  {
   "cell_type": "code",
   "execution_count": 25,
   "metadata": {
    "execution": {
     "iopub.execute_input": "2023-01-28T20:58:57.725631Z",
     "iopub.status.busy": "2023-01-28T20:58:57.725286Z",
     "iopub.status.idle": "2023-01-28T20:59:01.083249Z",
     "shell.execute_reply": "2023-01-28T20:59:01.082287Z",
     "shell.execute_reply.started": "2023-01-28T20:58:57.725598Z"
    }
   },
   "outputs": [
    {
     "name": "stdout",
     "output_type": "stream",
     "text": [
      "Model: \"sequential\"\n",
      "_________________________________________________________________\n",
      " Layer (type)                Output Shape              Param #   \n",
      "=================================================================\n",
      " embedding (Embedding)       (None, 15, 40)            400000    \n",
      "                                                                 \n",
      " lstm (LSTM)                 (None, 15, 100)           56400     \n",
      "                                                                 \n",
      " dropout (Dropout)           (None, 15, 100)           0         \n",
      "                                                                 \n",
      " lstm_1 (LSTM)               (None, 50)                30200     \n",
      "                                                                 \n",
      " dense (Dense)               (None, 3)                 153       \n",
      "                                                                 \n",
      "=================================================================\n",
      "Total params: 486,753\n",
      "Trainable params: 486,753\n",
      "Non-trainable params: 0\n",
      "_________________________________________________________________\n"
     ]
    }
   ],
   "source": [
    "#Model\n",
    "embed_features=40\n",
    "model=Sequential()\n",
    "model.add(Embedding(voc_size,embed_features,input_length=sent_length))\n",
    "model.add(LSTM(100,return_sequences=True))\n",
    "model.add(Dropout(0.1))\n",
    "model.add(LSTM(50))\n",
    "model.add(Dense(3,activation='softmax'))\n",
    "model.compile(loss='categorical_crossentropy',optimizer='adam',metrics=['accuracy'])\n",
    "model.summary()"
   ]
  },
  {
   "cell_type": "code",
   "execution_count": 26,
   "metadata": {
    "execution": {
     "iopub.execute_input": "2023-01-28T20:59:01.085453Z",
     "iopub.status.busy": "2023-01-28T20:59:01.084818Z",
     "iopub.status.idle": "2023-01-28T20:59:01.091886Z",
     "shell.execute_reply": "2023-01-28T20:59:01.090848Z",
     "shell.execute_reply.started": "2023-01-28T20:59:01.085416Z"
    }
   },
   "outputs": [],
   "source": [
    "early_stopping=EarlyStopping(monitor='val_loss',min_delta=0,patience=3,verbose=1)\n",
    "reduce_lr=ReduceLROnPlateau(monitor='val_loss',\n",
    "                           factor=0.2,\n",
    "                           pateince=3,\n",
    "                           verbose=1,\n",
    "                           min_delta=0.0001)\n",
    "callbacks_list=[early_stopping,reduce_lr]"
   ]
  },
  {
   "cell_type": "code",
   "execution_count": 27,
   "metadata": {
    "execution": {
     "iopub.execute_input": "2023-01-28T20:59:01.093813Z",
     "iopub.status.busy": "2023-01-28T20:59:01.093355Z",
     "iopub.status.idle": "2023-01-28T20:59:36.898411Z",
     "shell.execute_reply": "2023-01-28T20:59:36.897513Z",
     "shell.execute_reply.started": "2023-01-28T20:59:01.093779Z"
    }
   },
   "outputs": [
    {
     "name": "stdout",
     "output_type": "stream",
     "text": [
      "Epoch 1/30\n",
      "717/717 [==============================] - 20s 24ms/step - loss: 0.7429 - accuracy: 0.6766 - val_loss: 0.6023 - val_accuracy: 0.7580 - lr: 0.0010\n",
      "Epoch 2/30\n",
      "717/717 [==============================] - 17s 23ms/step - loss: 0.4888 - accuracy: 0.8091 - val_loss: 0.5273 - val_accuracy: 0.7924 - lr: 0.0010\n",
      "Epoch 3/30\n",
      "717/717 [==============================] - 16s 23ms/step - loss: 0.3616 - accuracy: 0.8607 - val_loss: 0.4586 - val_accuracy: 0.8164 - lr: 0.0010\n",
      "Epoch 4/30\n",
      "717/717 [==============================] - 16s 23ms/step - loss: 0.2788 - accuracy: 0.8925 - val_loss: 0.4642 - val_accuracy: 0.8368 - lr: 0.0010\n",
      "Epoch 5/30\n",
      "717/717 [==============================] - 16s 23ms/step - loss: 0.2240 - accuracy: 0.9122 - val_loss: 0.4394 - val_accuracy: 0.8444 - lr: 0.0010\n",
      "Epoch 6/30\n",
      "717/717 [==============================] - 16s 23ms/step - loss: 0.1878 - accuracy: 0.9250 - val_loss: 0.4627 - val_accuracy: 0.8485 - lr: 0.0010\n",
      "Epoch 7/30\n",
      "717/717 [==============================] - 16s 23ms/step - loss: 0.1628 - accuracy: 0.9333 - val_loss: 0.4562 - val_accuracy: 0.8540 - lr: 0.0010\n",
      "Epoch 8/30\n",
      "717/717 [==============================] - 17s 23ms/step - loss: 0.1457 - accuracy: 0.9407 - val_loss: 0.4570 - val_accuracy: 0.8568 - lr: 0.0010\n",
      "Epoch 8: early stopping\n"
     ]
    }
   ],
   "source": [
    "h=model.fit(x_train,\n",
    "          y_train,\n",
    "          batch_size=64,\n",
    "          epochs=30,\n",
    "          verbose=1,\n",
    "          callbacks=callbacks_list,\n",
    "          validation_data=(x_valid,y_valid)      \n",
    "         )"
   ]
  },
  {
   "cell_type": "markdown",
   "metadata": {},
   "source": [
    "# Results"
   ]
  },
  {
   "cell_type": "code",
   "execution_count": 28,
   "metadata": {
    "execution": {
     "iopub.execute_input": "2023-01-28T21:03:38.878929Z",
     "iopub.status.busy": "2023-01-28T21:03:38.878345Z",
     "iopub.status.idle": "2023-01-28T21:03:39.116410Z",
     "shell.execute_reply": "2023-01-28T21:03:39.115450Z",
     "shell.execute_reply.started": "2023-01-28T21:03:38.878886Z"
    }
   },
   "outputs": [
    {
     "data": {
      "text/plain": [
       "<matplotlib.legend.Legend at 0x235131a6ee0>"
      ]
     },
     "execution_count": 28,
     "metadata": {},
     "output_type": "execute_result"
    },
    {
     "data": {
      "image/png": "[encoded data removed]",
      "text/plain": [
       "<Figure size 640x480 with 1 Axes>"
      ]
     },
     "metadata": {},
     "output_type": "display_data"
    }
   ],
   "source": [
    "plt.plot(h.history['accuracy'],label='Accuracy')\n",
    "plt.plot(h.history['val_accuracy'],label='Validation Accuracy')\n",
    "plt.xlabel('Epochs')\n",
    "plt.ylabel('Accuracy')\n",
    "plt.legend()"
   ]
  },
  {
   "cell_type": "code",
   "execution_count": 29,
   "metadata": {
    "execution": {
     "iopub.execute_input": "2023-01-28T21:04:19.629255Z",
     "iopub.status.busy": "2023-01-28T21:04:19.628884Z",
     "iopub.status.idle": "2023-01-28T21:04:19.848094Z",
     "shell.execute_reply": "2023-01-28T21:04:19.847199Z",
     "shell.execute_reply.started": "2023-01-28T21:04:19.629208Z"
    }
   },
   "outputs": [
    {
     "data": {
      "text/plain": [
       "<matplotlib.legend.Legend at 0x23513202370>"
      ]
     },
     "execution_count": 29,
     "metadata": {},
     "output_type": "execute_result"
    },
    {
     "data": {
      "image/png": "[encoded data removed]",
      "text/plain": [
       "<Figure size 640x480 with 1 Axes>"
      ]
     },
     "metadata": {},
     "output_type": "display_data"
    }
   ],
   "source": [
    "plt.plot(h.history['loss'],label='Loss')\n",
    "plt.plot(h.history['val_loss'],label='Validation Loss')\n",
    "plt.xlabel('Epochs')\n",
    "plt.ylabel('Loss')\n",
    "plt.legend()"
   ]
  },
  {
   "cell_type": "code",
   "execution_count": 30,
   "metadata": {
    "execution": {
     "iopub.execute_input": "2023-01-28T20:59:44.584029Z",
     "iopub.status.busy": "2023-01-28T20:59:44.583658Z",
     "iopub.status.idle": "2023-01-28T20:59:45.712988Z",
     "shell.execute_reply": "2023-01-28T20:59:45.712002Z",
     "shell.execute_reply.started": "2023-01-28T20:59:44.583993Z"
    }
   },
   "outputs": [
    {
     "name": "stdout",
     "output_type": "stream",
     "text": [
      "311/311 [==============================] - 2s 6ms/step\n"
     ]
    }
   ],
   "source": [
    "#Predictions on test set\n",
    "preds=model.predict(x_test)\n",
    "preds_max=np.argmax(preds,axis=1)"
   ]
  },
  {
   "cell_type": "code",
   "execution_count": 31,
   "metadata": {
    "execution": {
     "iopub.execute_input": "2023-01-28T20:59:45.725722Z",
     "iopub.status.busy": "2023-01-28T20:59:45.725364Z",
     "iopub.status.idle": "2023-01-28T20:59:45.732129Z",
     "shell.execute_reply": "2023-01-28T20:59:45.731270Z",
     "shell.execute_reply.started": "2023-01-28T20:59:45.725686Z"
    }
   },
   "outputs": [],
   "source": [
    "y_test_values=np.argmax(y_test,axis=1)"
   ]
  },
  {
   "cell_type": "code",
   "execution_count": 32,
   "metadata": {
    "execution": {
     "iopub.execute_input": "2023-01-28T20:59:45.734188Z",
     "iopub.status.busy": "2023-01-28T20:59:45.733688Z",
     "iopub.status.idle": "2023-01-28T20:59:45.978847Z",
     "shell.execute_reply": "2023-01-28T20:59:45.977949Z",
     "shell.execute_reply.started": "2023-01-28T20:59:45.734143Z"
    }
   },
   "outputs": [
    {
     "data": {
      "text/plain": [
       "<AxesSubplot: >"
      ]
     },
     "execution_count": 32,
     "metadata": {},
     "output_type": "execute_result"
    },
    {
     "data": {
      "image/png": "[encoded data removed]",
      "text/plain": [
       "<Figure size 640x480 with 2 Axes>"
      ]
     },
     "metadata": {},
     "output_type": "display_data"
    }
   ],
   "source": [
    "#Confusion Matrix\n",
    "cm=confusion_matrix(y_test_values,preds_max)\n",
    "sns.heatmap(cm,annot=True,fmt='d')"
   ]
  },
  {
   "cell_type": "code",
   "execution_count": 33,
   "metadata": {
    "execution": {
     "iopub.execute_input": "2023-01-28T20:59:45.980693Z",
     "iopub.status.busy": "2023-01-28T20:59:45.980247Z",
     "iopub.status.idle": "2023-01-28T20:59:46.023111Z",
     "shell.execute_reply": "2023-01-28T20:59:46.022220Z",
     "shell.execute_reply.started": "2023-01-28T20:59:45.980647Z"
    }
   },
   "outputs": [],
   "source": [
    "#Saving the model\n",
    "model.save('lstm_model.h5')"
   ]
  },
  {
   "cell_type": "code",
   "execution_count": null,
   "metadata": {},
   "outputs": [],
   "source": []
  }
 ],
 "metadata": {
  "kernelspec": {
   "display_name": "Python 3 (ipykernel)",
   "language": "python",
   "name": "python3"
  },
  "language_info": {
   "codemirror_mode": {
    "name": "ipython",
    "version": 3
   },
   "file_extension": ".py",
   "mimetype": "text/x-python",
   "name": "python",
   "nbconvert_exporter": "python",
   "pygments_lexer": "ipython3",
   "version": "3.9.13"
  }
 },
 "nbformat": 4,
 "nbformat_minor": 4
}
